{
 "cells": [
  {
   "cell_type": "code",
   "execution_count": 3,
   "metadata": {},
   "outputs": [
    {
     "name": "stdout",
     "output_type": "stream",
     "text": [
      "By using this model checkpoint, you acknowledge that its usage is subject to the terms of the CreativeML Open RAIL-M license at https://raw.githubusercontent.com/CompVis/stable-diffusion/main/LICENSE\n"
     ]
    },
    {
     "ename": "AttributeError",
     "evalue": "module 'tensorflow.keras.layers' has no attribute 'GroupNormalization'",
     "output_type": "error",
     "traceback": [
      "\u001b[1;31m---------------------------------------------------------------------------\u001b[0m",
      "\u001b[1;31mAttributeError\u001b[0m                            Traceback (most recent call last)",
      "Cell \u001b[1;32mIn[3], line 5\u001b[0m\n\u001b[0;32m      2\u001b[0m \u001b[39mfrom\u001b[39;00m \u001b[39mPIL\u001b[39;00m \u001b[39mimport\u001b[39;00m Image\n\u001b[0;32m      4\u001b[0m model \u001b[39m=\u001b[39m StableDiffusion()\n\u001b[1;32m----> 5\u001b[0m img \u001b[39m=\u001b[39m model\u001b[39m.\u001b[39;49mtext_to_image(\u001b[39m\"\u001b[39;49m\u001b[39mIron Man making breakfast\u001b[39;49m\u001b[39m\"\u001b[39;49m)\n\u001b[0;32m      6\u001b[0m Image\u001b[39m.\u001b[39mfromarray(img[\u001b[39m0\u001b[39m])\u001b[39m.\u001b[39msave(\u001b[39m\"\u001b[39m\u001b[39msimple.png\u001b[39m\u001b[39m\"\u001b[39m)\n",
      "File \u001b[1;32mc:\\Users\\user\\anaconda3\\envs\\ml\\lib\\site-packages\\keras_cv\\models\\stable_diffusion\\stable_diffusion.py:78\u001b[0m, in \u001b[0;36mStableDiffusionBase.text_to_image\u001b[1;34m(self, prompt, negative_prompt, batch_size, num_steps, unconditional_guidance_scale, seed)\u001b[0m\n\u001b[0;32m     67\u001b[0m \u001b[39mdef\u001b[39;00m \u001b[39mtext_to_image\u001b[39m(\n\u001b[0;32m     68\u001b[0m     \u001b[39mself\u001b[39m,\n\u001b[0;32m     69\u001b[0m     prompt,\n\u001b[1;32m   (...)\u001b[0m\n\u001b[0;32m     74\u001b[0m     seed\u001b[39m=\u001b[39m\u001b[39mNone\u001b[39;00m,\n\u001b[0;32m     75\u001b[0m ):\n\u001b[0;32m     76\u001b[0m     encoded_text \u001b[39m=\u001b[39m \u001b[39mself\u001b[39m\u001b[39m.\u001b[39mencode_text(prompt)\n\u001b[1;32m---> 78\u001b[0m     \u001b[39mreturn\u001b[39;00m \u001b[39mself\u001b[39;49m\u001b[39m.\u001b[39;49mgenerate_image(\n\u001b[0;32m     79\u001b[0m         encoded_text,\n\u001b[0;32m     80\u001b[0m         negative_prompt\u001b[39m=\u001b[39;49mnegative_prompt,\n\u001b[0;32m     81\u001b[0m         batch_size\u001b[39m=\u001b[39;49mbatch_size,\n\u001b[0;32m     82\u001b[0m         num_steps\u001b[39m=\u001b[39;49mnum_steps,\n\u001b[0;32m     83\u001b[0m         unconditional_guidance_scale\u001b[39m=\u001b[39;49munconditional_guidance_scale,\n\u001b[0;32m     84\u001b[0m         seed\u001b[39m=\u001b[39;49mseed,\n\u001b[0;32m     85\u001b[0m     )\n",
      "File \u001b[1;32mc:\\Users\\user\\anaconda3\\envs\\ml\\lib\\site-packages\\keras_cv\\models\\stable_diffusion\\stable_diffusion.py:212\u001b[0m, in \u001b[0;36mStableDiffusionBase.generate_image\u001b[1;34m(self, encoded_text, negative_prompt, batch_size, num_steps, unconditional_guidance_scale, diffusion_noise, seed)\u001b[0m\n\u001b[0;32m    210\u001b[0m latent_prev \u001b[39m=\u001b[39m latent  \u001b[39m# Set aside the previous latent vector\u001b[39;00m\n\u001b[0;32m    211\u001b[0m t_emb \u001b[39m=\u001b[39m \u001b[39mself\u001b[39m\u001b[39m.\u001b[39m_get_timestep_embedding(timestep, batch_size)\n\u001b[1;32m--> 212\u001b[0m unconditional_latent \u001b[39m=\u001b[39m \u001b[39mself\u001b[39;49m\u001b[39m.\u001b[39;49mdiffusion_model\u001b[39m.\u001b[39mpredict_on_batch(\n\u001b[0;32m    213\u001b[0m     [latent, t_emb, unconditional_context]\n\u001b[0;32m    214\u001b[0m )\n\u001b[0;32m    215\u001b[0m latent \u001b[39m=\u001b[39m \u001b[39mself\u001b[39m\u001b[39m.\u001b[39mdiffusion_model\u001b[39m.\u001b[39mpredict_on_batch([latent, t_emb, context])\n\u001b[0;32m    216\u001b[0m latent \u001b[39m=\u001b[39m unconditional_latent \u001b[39m+\u001b[39m unconditional_guidance_scale \u001b[39m*\u001b[39m (\n\u001b[0;32m    217\u001b[0m     latent \u001b[39m-\u001b[39m unconditional_latent\n\u001b[0;32m    218\u001b[0m )\n",
      "File \u001b[1;32mc:\\Users\\user\\anaconda3\\envs\\ml\\lib\\site-packages\\keras_cv\\models\\stable_diffusion\\stable_diffusion.py:553\u001b[0m, in \u001b[0;36mStableDiffusion.diffusion_model\u001b[1;34m(self)\u001b[0m\n\u001b[0;32m    549\u001b[0m \u001b[39m\"\"\"diffusion_model returns the diffusion model with pretrained weights.\u001b[39;00m\n\u001b[0;32m    550\u001b[0m \u001b[39mCan be overriden for tasks where the diffusion model needs to be modified.\u001b[39;00m\n\u001b[0;32m    551\u001b[0m \u001b[39m\"\"\"\u001b[39;00m\n\u001b[0;32m    552\u001b[0m \u001b[39mif\u001b[39;00m \u001b[39mself\u001b[39m\u001b[39m.\u001b[39m_diffusion_model \u001b[39mis\u001b[39;00m \u001b[39mNone\u001b[39;00m:\n\u001b[1;32m--> 553\u001b[0m     \u001b[39mself\u001b[39m\u001b[39m.\u001b[39m_diffusion_model \u001b[39m=\u001b[39m DiffusionModel(\n\u001b[0;32m    554\u001b[0m         \u001b[39mself\u001b[39;49m\u001b[39m.\u001b[39;49mimg_height, \u001b[39mself\u001b[39;49m\u001b[39m.\u001b[39;49mimg_width, MAX_PROMPT_LENGTH\n\u001b[0;32m    555\u001b[0m     )\n\u001b[0;32m    556\u001b[0m     \u001b[39mif\u001b[39;00m \u001b[39mself\u001b[39m\u001b[39m.\u001b[39mjit_compile:\n\u001b[0;32m    557\u001b[0m         \u001b[39mself\u001b[39m\u001b[39m.\u001b[39m_diffusion_model\u001b[39m.\u001b[39mcompile(jit_compile\u001b[39m=\u001b[39m\u001b[39mTrue\u001b[39;00m)\n",
      "File \u001b[1;32mc:\\Users\\user\\anaconda3\\envs\\ml\\lib\\site-packages\\keras_cv\\models\\stable_diffusion\\diffusion_model.py:42\u001b[0m, in \u001b[0;36mDiffusionModel.__init__\u001b[1;34m(self, img_height, img_width, max_text_length, name, download_weights)\u001b[0m\n\u001b[0;32m     39\u001b[0m outputs\u001b[39m.\u001b[39mappend(x)\n\u001b[0;32m     41\u001b[0m \u001b[39mfor\u001b[39;00m _ \u001b[39min\u001b[39;00m \u001b[39mrange\u001b[39m(\u001b[39m2\u001b[39m):\n\u001b[1;32m---> 42\u001b[0m     x \u001b[39m=\u001b[39m ResBlock(\u001b[39m320\u001b[39;49m)([x, t_emb])\n\u001b[0;32m     43\u001b[0m     x \u001b[39m=\u001b[39m SpatialTransformer(\u001b[39m8\u001b[39m, \u001b[39m40\u001b[39m, fully_connected\u001b[39m=\u001b[39m\u001b[39mFalse\u001b[39;00m)([x, context])\n\u001b[0;32m     44\u001b[0m     outputs\u001b[39m.\u001b[39mappend(x)\n",
      "File \u001b[1;32mc:\\Users\\user\\anaconda3\\envs\\ml\\lib\\site-packages\\keras_cv\\models\\stable_diffusion\\diffusion_model.py:206\u001b[0m, in \u001b[0;36mResBlock.__init__\u001b[1;34m(self, output_dim, **kwargs)\u001b[0m\n\u001b[0;32m    203\u001b[0m \u001b[39msuper\u001b[39m()\u001b[39m.\u001b[39m\u001b[39m__init__\u001b[39m(\u001b[39m*\u001b[39m\u001b[39m*\u001b[39mkwargs)\n\u001b[0;32m    204\u001b[0m \u001b[39mself\u001b[39m\u001b[39m.\u001b[39moutput_dim \u001b[39m=\u001b[39m output_dim\n\u001b[0;32m    205\u001b[0m \u001b[39mself\u001b[39m\u001b[39m.\u001b[39mentry_flow \u001b[39m=\u001b[39m [\n\u001b[1;32m--> 206\u001b[0m     keras\u001b[39m.\u001b[39;49mlayers\u001b[39m.\u001b[39;49mGroupNormalization(epsilon\u001b[39m=\u001b[39m\u001b[39m1e-5\u001b[39m),\n\u001b[0;32m    207\u001b[0m     keras\u001b[39m.\u001b[39mlayers\u001b[39m.\u001b[39mActivation(\u001b[39m\"\u001b[39m\u001b[39mswish\u001b[39m\u001b[39m\"\u001b[39m),\n\u001b[0;32m    208\u001b[0m     PaddedConv2D(output_dim, \u001b[39m3\u001b[39m, padding\u001b[39m=\u001b[39m\u001b[39m1\u001b[39m),\n\u001b[0;32m    209\u001b[0m ]\n\u001b[0;32m    210\u001b[0m \u001b[39mself\u001b[39m\u001b[39m.\u001b[39membedding_flow \u001b[39m=\u001b[39m [\n\u001b[0;32m    211\u001b[0m     keras\u001b[39m.\u001b[39mlayers\u001b[39m.\u001b[39mActivation(\u001b[39m\"\u001b[39m\u001b[39mswish\u001b[39m\u001b[39m\"\u001b[39m),\n\u001b[0;32m    212\u001b[0m     keras\u001b[39m.\u001b[39mlayers\u001b[39m.\u001b[39mDense(output_dim),\n\u001b[0;32m    213\u001b[0m ]\n\u001b[0;32m    214\u001b[0m \u001b[39mself\u001b[39m\u001b[39m.\u001b[39mexit_flow \u001b[39m=\u001b[39m [\n\u001b[0;32m    215\u001b[0m     keras\u001b[39m.\u001b[39mlayers\u001b[39m.\u001b[39mGroupNormalization(epsilon\u001b[39m=\u001b[39m\u001b[39m1e-5\u001b[39m),\n\u001b[0;32m    216\u001b[0m     keras\u001b[39m.\u001b[39mlayers\u001b[39m.\u001b[39mActivation(\u001b[39m\"\u001b[39m\u001b[39mswish\u001b[39m\u001b[39m\"\u001b[39m),\n\u001b[0;32m    217\u001b[0m     PaddedConv2D(output_dim, \u001b[39m3\u001b[39m, padding\u001b[39m=\u001b[39m\u001b[39m1\u001b[39m),\n\u001b[0;32m    218\u001b[0m ]\n",
      "\u001b[1;31mAttributeError\u001b[0m: module 'tensorflow.keras.layers' has no attribute 'GroupNormalization'"
     ]
    }
   ],
   "source": [
    "from keras_cv.models import StableDiffusion\n",
    "from PIL import Image\n",
    "\n",
    "model = StableDiffusion()\n",
    "img = model.text_to_image(\"Iron Man making breakfast\")\n",
    "Image.fromarray(img[0]).save(\"simple.png\")"
   ]
  },
  {
   "cell_type": "code",
   "execution_count": null,
   "metadata": {},
   "outputs": [],
   "source": []
  }
 ],
 "metadata": {
  "kernelspec": {
   "display_name": "ml",
   "language": "python",
   "name": "python3"
  },
  "language_info": {
   "codemirror_mode": {
    "name": "ipython",
    "version": 3
   },
   "file_extension": ".py",
   "mimetype": "text/x-python",
   "name": "python",
   "nbconvert_exporter": "python",
   "pygments_lexer": "ipython3",
   "version": "3.10.8"
  },
  "orig_nbformat": 4
 },
 "nbformat": 4,
 "nbformat_minor": 2
}
